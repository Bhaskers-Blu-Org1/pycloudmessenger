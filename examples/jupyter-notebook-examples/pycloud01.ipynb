{
 "cells": [
  {
   "cell_type": "markdown",
   "metadata": {},
   "source": [
    "# Data interaction\n",
    "\n",
    "This notebook shows how an external user may interact with data being managed from GAIN pilot partner sites. \n",
    "It relies on a lightweight, publcily-available package, `pycloudmessenger` that allows interaction with\n",
    "all data collected and generated (model generated, etc.) at GAIN pilot partner sites.\n",
    "\n"
   ]
  },
  {
   "cell_type": "code",
   "execution_count": 2,
   "metadata": {},
   "outputs": [],
   "source": [
    "import os\n",
    "import sys\n",
    "sys.path.append(\"../..\")  # work around to add locally available pycloudmessenger to path\n",
    "import logging\n",
    "import json\n",
    "import warnings\n",
    "import pandas as pd\n",
    "import matplotlib.pyplot as plt\n",
    "import matplotlib.dates as mdates\n",
    "sys.path.append(".")\n",
    "## castorapi allows us interface with the cloud server using appropriate credentials\n",
    "import pycloudmessenger.castor.castorapi as castorapi\n",
    "\n",
    "#Set up logger\n",
    "logging.basicConfig(\n",
    "    level=logging.INFO,\n",
    "    format='%(asctime)s.%(msecs)03d %(levelname)-6s %(name)s %(thread)d :: %(message)s',\n",
    "    datefmt='%Y-%m-%d %H:%M:%S')\n",
    "\n",
    "LOGGER = logging.getLogger(__package__)\n"
   ]
  },
  {
   "cell_type": "markdown",
   "metadata": {},
   "source": [
    "Interaction with the service is via an AMQP-based publish-subscribe protocol. Access is managed by a `credentials` file unique to each pilot partner site. This provides the cloud messenger service with `context` to interact securely with data stored in the cloud service (sensor data, weather data, model forecasts, etc.)\n",
    "\n",
    "As an example we request a list of all available sensor observations for the GIFAS partner site using the `castor.request_sensor_list()` functionality."
   ]
  },
  {
   "cell_type": "code",
   "execution_count": 3,
   "metadata": {},
   "outputs": [
    {
     "name": "stderr",
     "output_type": "stream",
     "text": [
      "2019-11-21 15:50:18.959 INFO   root 4582469056 :: \n",
      "\n",
      "Available Sensor IDs: ['CASTOR.TimeSeriesInsert', 'daily_environmental-Oxygen-barge', 'daily_environmental-Temperature-barge', 'daily_environmental-Turbidity-barge', 'daily_feed', 'farm_16-8', 'lice_count-AvgCaligusElongatus-allStages', 'lice_count-AvgLepAdultFemale', 'lice_count-AvgLepAdultMale', 'lice_count-AvgLepFemale-withEggStrings', 'lice_count-AvgLepJuveniles', 'lice_count-AvgLepPreAdult', 'mortality_count', 'sp_test_1', 'sp_test_2', 'sp_test_3', 'test', 'total_AGD_score', 'total_Non-AGD_score']\n",
      "\n"
     ]
    }
   ],
   "source": [
    "# credentials file used to securely connect to the cloud server\n",
    "# This must be updated with the credentials file supplied to you by IBM\n",
    "cred_file = 'credentials.json' \n",
    "cred_file = '/Users/fearghal/.gain_credentials/drlgain-de-uos-credentials.json'\n",
    "context = castorapi.CastorContext.from_credentials_file(cred_file)\n",
    "try:\n",
    "    with castorapi.CastorMessenger(context) as castor:\n",
    "        message = castor.request_sensor_list()\n",
    "        reply = castor.invoke_service(message)\n",
    "        LOGGER.info(\"\\n\\nAvailable Sensor IDs: \" + str(reply['ts_ids']) + \"\\n\")\n",
    "except Exception as err:\n",
    "    LOGGER.info(\"Error %r\", err)\n",
    "    \n",
    "sensor_id = reply['ts_ids']\n"
   ]
  },
  {
   "cell_type": "markdown",
   "metadata": {},
   "source": [
    "The next step is to interogate specific sensor dataset. One can query a particular sensor dataset \n",
    "for a desired time_range using the \n",
    "`castor.request_sensor_data()` call. For this simple example we request data from the first two sensor\n",
    "returned in the `sensor_id` list. Obviously, the user generally would request particular sensor based on id and defined context (i.e. what the sensor id refers to)  \n"
   ]
  },
  {
   "cell_type": "code",
   "execution_count": 4,
   "metadata": {},
   "outputs": [
    {
     "name": "stderr",
     "output_type": "stream",
     "text": [
      "2019-11-21 15:50:42.118 INFO   root 4582469056 :: Request sensor data from server\n",
      "2019-11-21 15:50:42.119 INFO   root 4582469056 :: Requesting time series for sensor ID 'daily_environmental-Oxygen-barge'...\n",
      "2019-11-21 15:50:43.407 INFO   root 4582469056 :: \n",
      "\n",
      "Number of Time Series Values: 190\n",
      "2019-11-21 15:50:43.416 INFO   root 4582469056 :: Requesting time series for sensor ID 'daily_environmental-Temperature-barge'...\n",
      "2019-11-21 15:50:43.886 INFO   root 4582469056 :: \n",
      "\n",
      "Number of Time Series Values: 202\n"
     ]
    }
   ],
   "source": [
    "def request_sensor_data(sensor: str, from_date: str, to_date: str):\n",
    "    # Function requests data for user defined sensor id and \n",
    "    # date range \n",
    "        #Retrieve some time series\n",
    "    LOGGER.info(\"Requesting time series for sensor ID '%s'...\", sensor)\n",
    "    message = castor.request_sensor_data(sensor,from_date,to_date)\n",
    "    reply = castor.invoke_service(message)\n",
    "    LOGGER.info(\"\\n\\nNumber of Time Series Values: %d\", reply['count'])\n",
    "    df = pd.DataFrame(reply['values'], \n",
    "                    columns=['Timestamp', 'SensorID', 'value','offset'])\n",
    "    # Convert to pandas timestamp for visualisation\n",
    "    df['Timestamp'] = pd.to_datetime(df['Timestamp'])  \n",
    "    df['label'] = sensor # add relevant label   \n",
    "    return df\n",
    "\n",
    "try:\n",
    "    with castorapi.CastorMessenger(context) as castor:\n",
    "        #List the devices\n",
    "        LOGGER.info(\"Request sensor data from server\")\n",
    "        sensor_df1 = request_sensor_data(sensor_id[1], \"2001-07-13T00:00:00+00:00\",  \"2020-08-13T01:00:00+00:00\")\n",
    "        sensor_df2 = request_sensor_data(sensor_id[2], \"2001-07-13T00:00:00+00:00\",  \"2020-08-13T01:00:00+00:00\")\n",
    "except Exception as err:\n",
    "    LOGGER.info(\"Error %r\", err)\n"
   ]
  },
  {
   "cell_type": "markdown",
   "metadata": {},
   "source": [
    "### Finally, we create some elementary visualisations on the sensor data returned and compare measured temperature at multiple depths"
   ]
  },
  {
   "cell_type": "code",
   "execution_count": 6,
   "metadata": {},
   "outputs": [
    {
     "data": {
      "image/png": "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\n",
      "text/plain": [
       "<Figure size 432x288 with 1 Axes>"
      ]
     },
     "metadata": {
      "needs_background": "light"
     },
     "output_type": "display_data"
    }
   ],
   "source": [
    "# plot and compare data,\n",
    "fig, ax = plt.subplots()\n",
    "plt.plot(sensor_df1['Timestamp'], sensor_df1['value'], 'k.', label = sensor_df1['label'][0])\n",
    "plt.plot(sensor_df2['Timestamp'], sensor_df2['value'], 'r.', label = sensor_df2['label'][0])\n",
    "plt.legend(loc='upper left')\n",
    "# rotate and align the tick labels so they look better\n",
    "fig.autofmt_xdate()\n",
    "\n",
    "# use a more precise date string for the x axis locations in the\n",
    "# toolbar\n",
    "ax.fmt_xdata = mdates.DateFormatter('%Y-%m-%d')\n",
    "ax.set_xlabel('Date')\n",
    "ax.set_ylabel(r'Observation')\n",
    "ax.grid()\n",
    "\n"
   ]
  },
  {
   "cell_type": "code",
   "execution_count": null,
   "metadata": {},
   "outputs": [],
   "source": []
  }
 ],
 "metadata": {
  "kernelspec": {
   "display_name": "Python 3",
   "language": "python",
   "name": "python3"
  },
  "language_info": {
   "codemirror_mode": {
    "name": "ipython",
    "version": 3
   },
   "file_extension": ".py",
   "mimetype": "text/x-python",
   "name": "python",
   "nbconvert_exporter": "python",
   "pygments_lexer": "ipython3",
   "version": "3.6.9"
  }
 },
 "nbformat": 4,
 "nbformat_minor": 4
}
