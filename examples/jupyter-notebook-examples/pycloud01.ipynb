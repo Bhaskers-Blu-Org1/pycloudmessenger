{
 "cells": [
  {
   "cell_type": "markdown",
   "metadata": {},
   "source": [
    "# Data interaction\n",
    "\n",
    "This notebook shows how an external user may interact with data being managed from GAIN pilot partner sites. \n",
    "It relies on a lightweight, publcily-available package, `pycloudmessenger` that allows interaction with\n",
    "all data collected and generated (model generated, etc.) at GAIN pilot partner sites.\n",
    "\n"
   ]
  },
  {
   "cell_type": "code",
   "execution_count": 22,
   "metadata": {},
   "outputs": [],
   "source": [
    "import os\n",
    "import sys\n",
    "import logging\n",
    "import json\n",
    "import warnings\n",
    "import pandas as pd\n",
    "import matplotlib.pyplot as plt\n",
    "import matplotlib.dates as mdates\n",
    "sys.path.append(".")\n",
    "## castorapi allows us interface with the cloud server using appropriate credentials\n",
    "import pycloudmessenger.castor.castorapi as castorapi\n",
    "\n",
    "#Set up logger\n",
    "logging.basicConfig(\n",
    "    level=logging.INFO,\n",
    "    format='%(asctime)s.%(msecs)03d %(levelname)-6s %(name)s %(thread)d :: %(message)s',\n",
    "    datefmt='%Y-%m-%d %H:%M:%S')\n",
    "\n",
    "LOGGER = logging.getLogger(__package__)\n"
   ]
  },
  {
   "cell_type": "markdown",
   "metadata": {},
   "source": [
    "Interaction with the service is via an AMQP-based publish-subscribe protocol. Access is managed by a `credentials` file unique to each pilot partner site. This provides the cloud messenger service with `context` to interact securely with data stored in the cloud service (sensor data, weather data, model forecasts, etc.)\n",
    "\n",
    "As an example we request a list of all available sensor observations for the GIFAS partner site using the `castor.request_sensor_list()` functionality."
   ]
  },
  {
   "cell_type": "code",
   "execution_count": 23,
   "metadata": {},
   "outputs": [
    {
     "name": "stderr",
     "output_type": "stream",
     "text": [
      "2019-10-07 16:28:17.285 INFO   root 4648375744 :: \n",
      "\n",
      "Available Sensor IDs: ['5300-669-oxygen_12m', '5300-669-oxygen_3m', '5300-669-salinity_6m', '5300-669-temp_12m', '5300-669-temp_3m', '5300-669-temp_6m', 'Barge_Temp_3m', 'CASTOR.TimeSeriesInsert', 'Feeding-Feed_end', 'Feeding-Feed_kg', 'Feeding-Feed_start', 'Lice-Average_chalimus', 'Lice-Average_matureFemale', 'Lice-Average_pre-adult', 'Mortality', 'RCM-currentspeed_m/s', 'RCM-depth_m', 'RCM-direction_deg', 'SmartGuard-oxygen_12m', 'SmartGuard-oxygen_3m', 'SmartGuard-salinity_6m', 'SmartGuard-temp_12m', 'SmartGuard-temp_3m', 'SmartGuard-temp_6m', 'TSO_SENSOR1.WATER_TEMPERATURE.test_model.12::74         ', 'Welfare-Fish_no', 'Welfare-Score_Condition', 'Welfare-Score_Deformity', 'Welfare-Score_EyeHealth', 'Welfare-Score_FinDamage', 'Welfare-Score_Gills', 'Welfare-Score_Haemorrhage', 'Welfare-Score_Maturation', 'Welfare-Score_Operculum', 'Welfare-Score_Overbite', 'Welfare-Score_ScaleLoss', 'Welfare-Score_Snout', 'Welfare-Score_Underbite', 'Welfare-Score_Wounds', 'biometrics', 'biometrics-ActivityIndex', 'biometrics-AverageDepth_m', 'biometrics-EstimatedWeightDaily_g', 'biometrics-EstimatedWeightSpreadDaily_g', 'biometrics-EstimatedWeight_g', 'biometrics-StdDevDepth_m', 'sp_test_1', 'sp_test_2', 'sp_test_3', 'test']\n",
      "\n"
     ]
    }
   ],
   "source": [
    "# credentials file used to securely connect to the cloud server\n",
    "cred_file = 'credentials.json'\n",
    "context = castorapi.CastorContext.from_credentials_file(cred_file)\n",
    "try:\n",
    "    with castorapi.CastorMessenger(context) as castor:\n",
    "        message = castor.request_sensor_list()\n",
    "        reply = castor.invoke_service(message)\n",
    "        LOGGER.info(\"\\n\\nAvailable Sensor IDs: \" + str(reply['ts_ids']) + \"\\n\")\n",
    "except Exception as err:\n",
    "    LOGGER.info(\"Error %r\", err)\n",
    "    \n",
    "sensor_id = reply['ts_ids']\n"
   ]
  },
  {
   "cell_type": "markdown",
   "metadata": {},
   "source": [
    "The next step is to interogate specific sensor dataset. One can query a particular sensor dataset \n",
    "for a desired time_range using the \n",
    "`castor.request_sensor_data()` call. For this simple example we request data from the first two sensor\n",
    "returned in the `sensor_id` list. Obviously, the user generally would request particular sensor based on id and defined context (i.e. what the sensor id refers to)  \n"
   ]
  },
  {
   "cell_type": "code",
   "execution_count": 17,
   "metadata": {},
   "outputs": [
    {
     "name": "stderr",
     "output_type": "stream",
     "text": [
      "2019-10-07 16:25:46.227 INFO   root 4648375744 :: Request sensor data from server\n",
      "2019-10-07 16:25:46.228 INFO   root 4648375744 :: Requesting time series for sensor ID '5300-669-oxygen_12m'...\n",
      "2019-10-07 16:25:46.599 INFO   root 4648375744 :: \n",
      "\n",
      "Number of Time Series Values: 1132\n",
      "2019-10-07 16:25:46.604 INFO   root 4648375744 :: Requesting time series for sensor ID '5300-669-oxygen_3m'...\n",
      "2019-10-07 16:25:47.273 INFO   root 4648375744 :: \n",
      "\n",
      "Number of Time Series Values: 1132\n"
     ]
    },
    {
     "data": {
      "text/html": [
       "<div>\n",
       "<style scoped>\n",
       "    .dataframe tbody tr th:only-of-type {\n",
       "        vertical-align: middle;\n",
       "    }\n",
       "\n",
       "    .dataframe tbody tr th {\n",
       "        vertical-align: top;\n",
       "    }\n",
       "\n",
       "    .dataframe thead th {\n",
       "        text-align: right;\n",
       "    }\n",
       "</style>\n",
       "<table border=\"1\" class=\"dataframe\">\n",
       "  <thead>\n",
       "    <tr style=\"text-align: right;\">\n",
       "      <th></th>\n",
       "      <th>value</th>\n",
       "    </tr>\n",
       "  </thead>\n",
       "  <tbody>\n",
       "    <tr>\n",
       "      <td>count</td>\n",
       "      <td>1132.000000</td>\n",
       "    </tr>\n",
       "    <tr>\n",
       "      <td>mean</td>\n",
       "      <td>111.611548</td>\n",
       "    </tr>\n",
       "    <tr>\n",
       "      <td>std</td>\n",
       "      <td>29.941946</td>\n",
       "    </tr>\n",
       "    <tr>\n",
       "      <td>min</td>\n",
       "      <td>62.548650</td>\n",
       "    </tr>\n",
       "    <tr>\n",
       "      <td>25%</td>\n",
       "      <td>96.452830</td>\n",
       "    </tr>\n",
       "    <tr>\n",
       "      <td>50%</td>\n",
       "      <td>103.469850</td>\n",
       "    </tr>\n",
       "    <tr>\n",
       "      <td>75%</td>\n",
       "      <td>117.739275</td>\n",
       "    </tr>\n",
       "    <tr>\n",
       "      <td>max</td>\n",
       "      <td>275.867100</td>\n",
       "    </tr>\n",
       "  </tbody>\n",
       "</table>\n",
       "</div>"
      ],
      "text/plain": [
       "             value\n",
       "count  1132.000000\n",
       "mean    111.611548\n",
       "std      29.941946\n",
       "min      62.548650\n",
       "25%      96.452830\n",
       "50%     103.469850\n",
       "75%     117.739275\n",
       "max     275.867100"
      ]
     },
     "execution_count": 17,
     "metadata": {},
     "output_type": "execute_result"
    }
   ],
   "source": [
    "def request_sensor_data(sensor: str, from_date: str, to_date: str):\n",
    "    # Function requests data for user defined sensor id and \n",
    "    # date range \n",
    "        #Retrieve some time series\n",
    "    LOGGER.info(\"Requesting time series for sensor ID '%s'...\", sensor)\n",
    "    message = castor.request_sensor_data(sensor,from_date,to_date)\n",
    "    reply = castor.invoke_service(message)\n",
    "    LOGGER.info(\"\\n\\nNumber of Time Series Values: %d\", reply['count'])\n",
    "    df = pd.DataFrame(reply['values'], \n",
    "                    columns=['Timestamp', 'SensorID', 'value','offset'])\n",
    "    # Convert to pandas timestamp for visualisation\n",
    "    df['Timestamp'] = pd.to_datetime(df['Timestamp'])  \n",
    "    df['label'] = sensor # add relevant label   \n",
    "    return df\n",
    "\n",
    "try:\n",
    "    with castorapi.CastorMessenger(context) as castor:\n",
    "        #List the devices\n",
    "        LOGGER.info(\"Request sensor data from server\")\n",
    "        sensor_df1 = request_sensor_data(sensor_id[0], \"2001-07-13T00:00:00+00:00\",  \"2020-08-13T01:00:00+00:00\")\n",
    "        sensor_df2 = request_sensor_data(sensor_id[1], \"2001-07-13T00:00:00+00:00\",  \"2020-08-13T01:00:00+00:00\")\n",
    "except Exception as err:\n",
    "    LOGGER.info(\"Error %r\", err)\n"
   ]
  },
  {
   "cell_type": "markdown",
   "metadata": {},
   "source": [
    "### Finally, we create some elementary visualisations on the sensor data returned and compare measured temperature at multiple depths"
   ]
  },
  {
   "cell_type": "code",
   "execution_count": 21,
   "metadata": {},
   "outputs": [
    {
     "data": {
      "image/png": "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\n",
      "text/plain": [
       "<Figure size 432x288 with 1 Axes>"
      ]
     },
     "metadata": {
      "needs_background": "light"
     },
     "output_type": "display_data"
    }
   ],
   "source": [
    "# plot and compare data,\n",
    "fig, ax = plt.subplots()\n",
    "plt.plot(sensor_df1['Timestamp'], sensor_df1['value'], 'k.', label = sensor_df1['label'][0])\n",
    "plt.plot(sensor_df2['Timestamp'], sensor_df2['value'], 'r.', label = sensor_df2['label'][0])\n",
    "plt.legend(loc='upper left')\n",
    "# rotate and align the tick labels so they look better\n",
    "fig.autofmt_xdate()\n",
    "\n",
    "# use a more precise date string for the x axis locations in the\n",
    "# toolbar\n",
    "ax.xaxis.set_major_locator(mdates.DayLocator(interval=2)) # The interval here specifies the interval to which \n",
    "ax.fmt_xdata = mdates.DateFormatter('%Y-%m-%d')\n",
    "ax.set_xlabel('Date')\n",
    "ax.set_ylabel(r'Observation')\n",
    "ax.grid()\n",
    "\n"
   ]
  }
 ],
 "metadata": {
  "kernelspec": {
   "display_name": "Python 3",
   "language": "python",
   "name": "python3"
  },
  "language_info": {
   "codemirror_mode": {
    "name": "ipython",
    "version": 3
   },
   "file_extension": ".py",
   "mimetype": "text/x-python",
   "name": "python",
   "nbconvert_exporter": "python",
   "pygments_lexer": "ipython3",
   "version": "3.6.9"
  }
 },
 "nbformat": 4,
 "nbformat_minor": 4
}
