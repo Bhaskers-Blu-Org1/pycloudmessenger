{
 "cells": [
  {
   "cell_type": "markdown",
   "metadata": {},
   "source": [
    "# Data interaction\n",
    "\n",
    "This notebook shows how an external user may interact with data being managed from GAIN pilot partner sites. \n",
    "It relies on a lightweight, publcily-available package, `pycloudmessenger` that allows interaction with\n",
    "all data collected and generated (model generated, etc.) at GAIN pilot partner sites.\n",
    "\n"
   ]
  },
  {
   "cell_type": "code",
   "execution_count": null,
   "metadata": {},
   "outputs": [],
   "source": [
    "import os\n",
    "import sys\n",
    "sys.path.append(\"../..\")  # work around to add locally available pycloudmessenger to path\n",
    "import logging\n",
    "import json\n",
    "import warnings\n",
    "import pandas as pd\n",
    "import matplotlib.pyplot as plt\n",
    "import matplotlib.dates as mdates\n",
    "sys.path.append(\".\")\n",
    "## castorapi allows us interface with the cloud server using appropriate credentials\n",
    "import pycloudmessenger.castor.castorapi as castorapi\n",
    "\n",
    "#Set up logger\n",
    "logging.basicConfig(\n",
    "    level=logging.INFO,\n",
    "    format='%(asctime)s.%(msecs)03d %(levelname)-6s %(name)s %(thread)d :: %(message)s',\n",
    "    datefmt='%Y-%m-%d %H:%M:%S')\n",
    "\n",
    "LOGGER = logging.getLogger(__package__)\n"
   ]
  },
  {
   "cell_type": "markdown",
   "metadata": {},
   "source": [
    "Interaction with the service is via an AMQP-based publish-subscribe protocol. Access is managed by a `credentials` file unique to each pilot partner site. This provides the cloud messenger service with `context` to interact securely with data stored in the cloud service (sensor data, weather data, model forecasts, etc.)\n",
    "\n",
    "As an example we request a list of all available sensor observations for the GIFAS partner site using the `castor.request_sensor_list()` functionality."
   ]
  },
  {
   "cell_type": "code",
   "execution_count": null,
   "metadata": {},
   "outputs": [],
   "source": [
    "# credentials file used to securely connect to the cloud server\n",
    "# This must be updated with the credentials file supplied to you by IBM\n",
    "cred_file = 'credentials.json' \n",
    "context = castorapi.CastorContext.from_credentials_file(cred_file)\n",
    "try:\n",
    "    with castorapi.CastorMessenger(context) as castor:\n",
    "        message = castor.request_sensor_list()\n",
    "        reply = castor.invoke_service(message)\n",
    "        LOGGER.info(\"\\n\\nAvailable Sensor IDs: \" + str(reply['ts_ids']) + \"\\n\")\n",
    "except Exception as err:\n",
    "    LOGGER.info(\"Error %r\", err)\n",
    "    \n",
    "sensor_id = reply['ts_ids']\n"
   ]
  },
  {
   "cell_type": "markdown",
   "metadata": {},
   "source": [
    "The next step is to interogate specific sensor dataset. One can query a particular sensor dataset \n",
    "for a desired time_range using the \n",
    "`castor.request_sensor_data()` call. For this simple example we request data from the first two sensor\n",
    "returned in the `sensor_id` list. Obviously, the user generally would request particular sensor based on id and defined context (i.e. what the sensor id refers to)  \n"
   ]
  },
  {
   "cell_type": "code",
   "execution_count": null,
   "metadata": {},
   "outputs": [],
   "source": [
    "def request_sensor_data(sensor: str, from_date: str, to_date: str):\n",
    "    # Function requests data for user defined sensor id and \n",
    "    # date range \n",
    "        #Retrieve some time series\n",
    "    LOGGER.info(\"Requesting time series for sensor ID '%s'...\", sensor)\n",
    "    message = castor.request_sensor_data(sensor,from_date,to_date)\n",
    "    reply = castor.invoke_service(message)\n",
    "    LOGGER.info(\"\\n\\nNumber of Time Series Values: %d\", reply['count'])\n",
    "    df = pd.DataFrame(reply['values'], \n",
    "                    columns=['Timestamp', 'SensorID', 'value','offset'])\n",
    "    # Convert to pandas timestamp for visualisation\n",
    "    df['Timestamp'] = pd.to_datetime(df['Timestamp'])  \n",
    "    df['label'] = sensor # add relevant label   \n",
    "    return df\n",
    "\n",
    "try:\n",
    "    with castorapi.CastorMessenger(context) as castor:\n",
    "        #List the devices\n",
    "        LOGGER.info(\"Request sensor data from server\")\n",
    "        sensor_df1 = request_sensor_data(sensor_id[1], \"2001-07-13T00:00:00+00:00\",  \"2020-08-13T01:00:00+00:00\")\n",
    "        sensor_df2 = request_sensor_data(sensor_id[2], \"2001-07-13T00:00:00+00:00\",  \"2020-08-13T01:00:00+00:00\")\n",
    "except Exception as err:\n",
    "    LOGGER.info(\"Error %r\", err)\n"
   ]
  },
  {
   "cell_type": "markdown",
   "metadata": {},
   "source": [
    "### Finally, we create some elementary visualisations on the sensor data returned and compare measured temperature at multiple depths"
   ]
  },
  {
   "cell_type": "code",
   "execution_count": null,
   "metadata": {},
   "outputs": [],
   "source": [
    "# plot and compare data,\n",
    "fig, ax = plt.subplots()\n",
    "plt.plot(sensor_df1['Timestamp'], sensor_df1['value'], 'k.', label = sensor_df1['label'][0])\n",
    "plt.plot(sensor_df2['Timestamp'], sensor_df2['value'], 'r.', label = sensor_df2['label'][0])\n",
    "plt.legend(loc='upper left')\n",
    "# rotate and align the tick labels so they look better\n",
    "fig.autofmt_xdate()\n",
    "\n",
    "# use a more precise date string for the x axis locations in the\n",
    "# toolbar\n",
    "ax.fmt_xdata = mdates.DateFormatter('%Y-%m-%d')\n",
    "ax.set_xlabel('Date')\n",
    "ax.set_ylabel(r'Observation')\n",
    "ax.grid()\n",
    "\n"
   ]
  },
  {
   "cell_type": "code",
   "execution_count": null,
   "metadata": {},
   "outputs": [],
   "source": []
  }
 ],
 "metadata": {
  "kernelspec": {
   "display_name": "Python 3",
   "language": "python",
   "name": "python3"
  },
  "language_info": {
   "codemirror_mode": {
    "name": "ipython",
    "version": 3
   },
   "file_extension": ".py",
   "mimetype": "text/x-python",
   "name": "python",
   "nbconvert_exporter": "python",
   "pygments_lexer": "ipython3",
   "version": "3.6.9"
  }
 },
 "nbformat": 4,
 "nbformat_minor": 4
}
